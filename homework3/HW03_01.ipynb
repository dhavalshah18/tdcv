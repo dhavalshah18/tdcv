{
 "cells": [
  {
   "cell_type": "code",
   "execution_count": 1,
   "metadata": {
    "pycharm": {
     "is_executing": false
    }
   },
   "outputs": [],
   "source": [
    "import numpy as np\n",
    "import matplotlib.pyplot as plt\n",
    "import torch\n",
    "import os\n",
    "\n",
    "from code.data_prep import PenisData\n",
    "from code.desiCNN import DesiCNN\n",
    "import code.lasses as ls\n",
    "\n",
    "torch.set_default_tensor_type('torch.FloatTensor')\n",
    "# set up default cuda device\n",
    "device = torch.device(\"cuda:0\" if torch.cuda.is_available() else \"cpu\")\n",
    "# device = torch.device(\"cpu\")\n",
    "\n",
    "# for auto-reloading external modules\n",
    "# see http://stackoverflow.com/questions/1907993/autoreload-of-modules-in-ipython\n",
    "%load_ext autoreload\n",
    "%autoreload 2"
   ]
  },
  {
   "cell_type": "code",
   "execution_count": 3,
   "metadata": {
    "pycharm": {
     "is_executing": false,
     "name": "#%%\n"
    }
   },
   "outputs": [
    {
     "name": "stdout",
     "output_type": "stream",
     "text": [
      "1483\n"
     ]
    }
   ],
   "source": [
    "train_ape = PenisData(root_path=\"./dataset/\", mode=\"train\", label=\"ape\")\n",
    "train_benchvise = PenisData(root_path=\"./dataset/\", mode=\"train\", label=\"benchvise\")\n",
    "train_cam = PenisData(root_path=\"./dataset/\", mode=\"train\", label=\"cam\")\n",
    "train_cat = PenisData(root_path=\"./dataset/\", mode=\"train\", label=\"cat\")\n",
    "train_duck = PenisData(root_path=\"./dataset/\", mode=\"train\", label=\"duck\")\n",
    "\n",
    "print(len(train_ape))"
   ]
  },
  {
   "cell_type": "markdown",
   "metadata": {},
   "source": [
    "### Batch generator"
   ]
  },
  {
   "cell_type": "code",
   "execution_count": 2,
   "metadata": {
    "pycharm": {
     "is_executing": false,
     "name": "#%%\n"
    }
   },
   "outputs": [],
   "source": [
    "def batch_generator(batch_size=10):\n",
    "    classes = [\"ape\", \"benchvise\", \"cam\", \"cat\", \"duck\"]\n",
    "    \n",
    "    batches_img = []\n",
    "    batches_pose = []\n",
    "    \n",
    "    for i in range(batch_size):\n",
    "        rand_classes = np.random.randint(1, 5)\n",
    "        rand_img = np.random.randint(0, 1482)\n",
    "        best_similarity = -1\n",
    "        anchor, anchor_pose = PenisData(root_path=\"./dataset/\", mode=\"train\", label=classes[rand_classes])[rand_img]\n",
    "        rand_push_class = np.random.randint(1, 5)\n",
    "        # Random image is not random\n",
    "        # anchor and pusher pose different but maybe not pusher and puller pose\n",
    "        pusher, pusher_pose = PenisData(root_path=\"./dataset/\", mode=\"train\", label=classes[rand_push_class])[rand_img-2]\n",
    "        \n",
    "        db = PenisData(root_path=\"./dataset/\", mode=\"database\", label=classes[rand_classes])\n",
    "        puller, puller_pose = db[0]\n",
    "        # No idea if this works\n",
    "        for p in range(len(db)):\n",
    "            current, current_pose = db[p]\n",
    "            similarity = 2. * np.arccos(abs(np.dot(anchor_pose, current_pose)))\n",
    "            \n",
    "            if similarity > best_similarity:\n",
    "                best_similarity = similarity\n",
    "                puller, puller_pose = current, current_pose\n",
    "        \n",
    "    # One batch is list of anchor, puller, pusher\n",
    "        batch = [anchor, puller, pusher]\n",
    "        batch_pose = [anchor_pose, puller_pose, pusher_pose]\n",
    "        \n",
    "        batches_img.append(batch)\n",
    "        batches_pose.append(batch_pose)\n",
    "    \n",
    "    return np.array(batches_img), np.array(batches_pose)"
   ]
  },
  {
   "cell_type": "markdown",
   "metadata": {},
   "source": [
    "### Visualize batches"
   ]
  },
  {
   "cell_type": "code",
   "execution_count": 121,
   "metadata": {
    "pycharm": {
     "is_executing": false,
     "name": "#%%\n"
    }
   },
   "outputs": [
    {
     "data": {
      "text/plain": [
       "<matplotlib.image.AxesImage at 0x7f7928ca5850>"
      ]
     },
     "execution_count": 121,
     "metadata": {},
     "output_type": "execute_result"
    },
    {
     "data": {
      "image/png": "[encoded data removed]",
      "text/plain": [
       "<Figure size 432x288 with 3 Axes>"
      ]
     },
     "metadata": {
      "needs_background": "light"
     },
     "output_type": "display_data"
    }
   ],
   "source": []
  },
  {
   "cell_type": "code",
   "execution_count": 4,
   "metadata": {
    "pycharm": {
     "is_executing": true,
     "name": "#%%\n"
    }
   },
   "outputs": [
    {
     "name": "stderr",
     "output_type": "stream",
     "text": [
      "/home/dhaval/anaconda3/envs/tdcv/lib/python3.7/site-packages/ipykernel_launcher.py:22: RuntimeWarning: invalid value encountered in arccos\n"
     ]
    },
    {
     "name": "stdout",
     "output_type": "stream",
     "text": [
      "START TRAIN\n",
      "Epoch:  0\n",
      "Loss:  3986.4194\n",
      "Epoch:  1\n",
      "Loss:  2611.7993\n",
      "Epoch:  2\n",
      "Loss:  1017.3051\n",
      "Epoch:  3\n",
      "Loss:  355.51932\n",
      "Epoch:  4\n",
      "Loss:  141.08171\n",
      "Epoch:  5\n",
      "Loss:  93.7564\n",
      "Epoch:  6\n",
      "Loss:  35.550198\n",
      "Epoch:  7\n",
      "Loss:  23.63625\n",
      "Epoch:  8\n",
      "Loss:  17.230911\n",
      "Epoch:  9\n",
      "Loss:  9.010133\n",
      "Epoch:  10\n",
      "Loss:  7.494957\n",
      "Epoch:  11\n",
      "Loss:  7.301839\n",
      "Epoch:  12\n",
      "Loss:  6.290447\n",
      "Epoch:  13\n",
      "Loss:  6.3112383\n",
      "Epoch:  14\n",
      "Loss:  5.000604\n",
      "Epoch:  15\n",
      "Loss:  5.3265676\n",
      "Epoch:  16\n",
      "Loss:  1.5269334\n",
      "Epoch:  17\n",
      "Loss:  6.56046\n",
      "Epoch:  18\n",
      "Loss:  5.4221272\n",
      "Epoch:  19\n",
      "Loss:  6.362016\n",
      "Epoch:  20\n",
      "Loss:  5.2518706\n",
      "Epoch:  21\n",
      "Loss:  6.108657\n",
      "Epoch:  22\n",
      "Loss:  5.870264\n",
      "Epoch:  23\n",
      "Loss:  7.6350045\n",
      "Epoch:  24\n",
      "Loss:  5.575869\n",
      "Epoch:  25\n",
      "Loss:  7.589978\n",
      "Epoch:  26\n",
      "Loss:  9.216527\n",
      "Epoch:  27\n",
      "Loss:  6.804557\n",
      "Epoch:  28\n",
      "Loss:  6.896566\n",
      "Epoch:  29\n",
      "Loss:  6.7314577\n",
      "Epoch:  30\n",
      "Loss:  6.0457773\n",
      "Epoch:  31\n",
      "Loss:  6.605463\n",
      "Epoch:  32\n",
      "Loss:  7.095147\n",
      "Epoch:  33\n",
      "Loss:  7.8858843\n",
      "Epoch:  34\n",
      "Loss:  8.250441\n",
      "Epoch:  35\n",
      "Loss:  6.89887\n",
      "Epoch:  36\n",
      "Loss:  7.599224\n",
      "Epoch:  37\n",
      "Loss:  8.45855\n",
      "Epoch:  38\n",
      "Loss:  6.299468\n",
      "Epoch:  39\n",
      "Loss:  6.9641747\n",
      "Epoch:  40\n",
      "Loss:  9.1625805\n",
      "Epoch:  41\n",
      "Loss:  7.703837\n",
      "Epoch:  42\n",
      "Loss:  9.640319\n",
      "Epoch:  43\n",
      "Loss:  7.032709\n",
      "Epoch:  44\n",
      "Loss:  7.2471414\n",
      "Epoch:  45\n",
      "Loss:  4.2231545\n",
      "Epoch:  46\n",
      "Loss:  6.831003\n",
      "Epoch:  47\n",
      "Loss:  6.637528\n",
      "Epoch:  48\n",
      "Loss:  6.0817556\n",
      "Epoch:  49\n",
      "Loss:  8.227879\n",
      "Epoch:  50\n",
      "Loss:  8.026625\n",
      "Epoch:  51\n",
      "Loss:  5.9231334\n",
      "Epoch:  52\n",
      "Loss:  10.693294\n",
      "Epoch:  53\n",
      "Loss:  7.4420056\n",
      "Epoch:  54\n",
      "Loss:  15.385401\n",
      "Epoch:  55\n",
      "Loss:  8.061779\n",
      "Epoch:  56\n",
      "Loss:  9.629735\n",
      "Epoch:  57\n",
      "Loss:  7.8400927\n",
      "Epoch:  58\n",
      "Loss:  8.923864\n",
      "Epoch:  59\n",
      "Loss:  12.189976\n",
      "Epoch:  60\n",
      "Loss:  6.805767\n",
      "Epoch:  61\n",
      "Loss:  18.13561\n",
      "Epoch:  62\n",
      "Loss:  54.57985\n",
      "Epoch:  63\n",
      "Loss:  10.571177\n",
      "Epoch:  64\n",
      "Loss:  22.6962\n",
      "Epoch:  65\n",
      "Loss:  6.867385\n",
      "Epoch:  66\n",
      "Loss:  12.877115\n",
      "Epoch:  67\n",
      "Loss:  9.563421\n",
      "Epoch:  68\n",
      "Loss:  12.725067\n",
      "Epoch:  69\n",
      "Loss:  7.6045732\n",
      "Epoch:  70\n",
      "Loss:  7.463127\n",
      "Epoch:  71\n",
      "Loss:  11.655167\n",
      "Epoch:  72\n",
      "Loss:  7.645086\n",
      "Epoch:  73\n",
      "Loss:  10.003345\n",
      "Epoch:  74\n",
      "Loss:  10.0\n",
      "Epoch:  75\n",
      "Loss:  10.0\n",
      "Epoch:  76\n",
      "Loss:  10.0\n",
      "Epoch:  77\n",
      "Loss:  10.0\n",
      "Epoch:  78\n",
      "Loss:  10.0\n",
      "Epoch:  79\n",
      "Loss:  10.0\n",
      "Epoch:  80\n",
      "Loss:  10.0\n",
      "Epoch:  81\n",
      "Loss:  10.0\n",
      "Epoch:  82\n",
      "Loss:  10.0\n",
      "Epoch:  83\n",
      "Loss:  10.0\n",
      "Epoch:  84\n",
      "Loss:  10.0\n",
      "Epoch:  85\n",
      "Loss:  10.0\n",
      "Epoch:  86\n",
      "Loss:  10.0\n",
      "Epoch:  87\n",
      "Loss:  10.0\n",
      "Epoch:  88\n",
      "Loss:  10.0\n",
      "Epoch:  89\n",
      "Loss:  10.0\n",
      "Epoch:  90\n",
      "Loss:  10.0\n",
      "Epoch:  91\n",
      "Loss:  10.0\n",
      "Epoch:  92\n",
      "Loss:  10.0\n",
      "Epoch:  93\n",
      "Loss:  10.0\n",
      "Epoch:  94\n",
      "Loss:  10.0\n",
      "Epoch:  95\n",
      "Loss:  10.0\n",
      "Epoch:  96\n",
      "Loss:  10.0\n",
      "Epoch:  97\n",
      "Loss:  10.0\n",
      "Epoch:  98\n",
      "Loss:  10.0\n",
      "Epoch:  99\n",
      "Loss:  10.0\n"
     ]
    }
   ],
   "source": [
    "model = DesiCNN()\n",
    "optim_args = {\"lr\": 1e-3, \"weight_decay\": 0.001}\n",
    "optim = torch.optim.Adam(model.parameters(), **optim_args)\n",
    "\n",
    "model.to(device)\n",
    "model.train()\n",
    "\n",
    "batch_size = 1000\n",
    "batches_img, batches_pose = batch_generator(batch_size=batch_size)\n",
    "epochs = 20\n",
    "\n",
    "print(\"START TRAIN\")\n",
    "\n",
    "for i in range(epochs):\n",
    "    print(\"Epoch: \", i)\n",
    "    inputs = batches_img[i*int(batch_size/epochs):i*int(batch_size/epochs) + int(batch_size/epochs)]\n",
    "    inputs = torch.from_numpy(inputs).to(device, dtype=torch.float)\n",
    "    inputs = inputs.transpose(2, 4)\n",
    "    inputs = inputs.transpose(3, 4)\n",
    "    outputs_a = model(inputs[:, 0])\n",
    "    outputs_pull = model(inputs[:, 1])\n",
    "    outputs_push = model(inputs[:, 2])\n",
    "    \n",
    "    loss = ls.total_loss(outputs_a, outputs_push, outputs_pull)\n",
    "    loss.backward()\n",
    "    optim.step()\n",
    "    \n",
    "    print(\"Loss: \", loss.detach().cpu().numpy())\n",
    "    "
   ]
  },
  {
   "cell_type": "code",
   "execution_count": null,
   "metadata": {
    "pycharm": {
     "name": "#%%\n"
    }
   },
   "outputs": [],
   "source": [
    "\n"
   ]
  }
 ],
 "metadata": {
  "kernelspec": {
   "display_name": "Python 3",
   "language": "python",
   "name": "python3"
  },
  "language_info": {
   "codemirror_mode": {
    "name": "ipython",
    "version": 3
   },
   "file_extension": ".py",
   "mimetype": "text/x-python",
   "name": "python",
   "nbconvert_exporter": "python",
   "pygments_lexer": "ipython3",
   "version": "3.7.6"
  },
  "pycharm": {
   "stem_cell": {
    "cell_type": "raw",
    "metadata": {
     "collapsed": false
    },
    "source": []
   }
  }
 },
 "nbformat": 4,
 "nbformat_minor": 1
}
