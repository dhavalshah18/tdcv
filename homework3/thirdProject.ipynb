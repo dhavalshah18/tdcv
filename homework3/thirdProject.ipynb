{
 "cells": [
  {
   "cell_type": "code",
   "execution_count": 1,
   "metadata": {},
   "outputs": [],
   "source": [
    "import numpy as np\n",
    "import torch\n",
    "import os\n",
    "from Code.data_prep import Data,XDataset\n",
    "from Code.network import CNN\n",
    "import Code.loss2 as ls\n",
    "from numpy import linalg as LA\n",
    "import matplotlib.pyplot as plt\n",
    "\n",
    "torch.set_default_tensor_type('torch.FloatTensor')\n",
    "# set up default cuda device\n",
    "device = torch.device(\"cuda:0\" if torch.cuda.is_available() else \"cpu\")\n",
    "# device = torch.device(\"cpu\")\n",
    "\n",
    "# for auto-reloading external modules\n",
    "# see http://stackoverflow.com/questions/1907993/autoreload-of-modules-in-ipython\n",
    "%load_ext autoreload\n",
    "%autoreload 2"
   ]
  },
  {
   "cell_type": "markdown",
   "metadata": {},
   "source": [
    "### 1) Data Preparation"
   ]
  },
  {
   "cell_type": "code",
   "execution_count": 2,
   "metadata": {},
   "outputs": [],
   "source": [
    "#Train data\n",
    "train_ape = Data(root_path=\"./dataset/\", mode=\"train\", label=\"ape\")\n",
    "train_benchvise = Data(root_path=\"./dataset/\", mode=\"train\", label=\"benchvise\")\n",
    "train_cam = Data(root_path=\"./dataset/\", mode=\"train\", label=\"cam\")\n",
    "train_cat = Data(root_path=\"./dataset/\", mode=\"train\", label=\"cat\")\n",
    "train_duck = Data(root_path=\"./dataset/\", mode=\"train\", label=\"duck\")\n",
    "\n",
    "#Test data\n",
    "test_ape = Data(root_path=\"./dataset/\", mode=\"test\", label=\"ape\")\n",
    "test_benchvise = Data(root_path=\"./dataset/\", mode=\"test\", label=\"benchvise\")\n",
    "test_cam = Data(root_path=\"./dataset/\", mode=\"test\", label=\"cam\")\n",
    "test_cat = Data(root_path=\"./dataset/\", mode=\"test\", label=\"cat\")\n",
    "test_duck = Data(root_path=\"./dataset/\", mode=\"test\", label=\"duck\")\n",
    "\n",
    "# Template set\n",
    "db_ape = Data(root_path=\"./dataset/\", mode=\"database\", label=\"ape\")\n",
    "db_benchvise = Data(root_path=\"./dataset/\", mode=\"database\", label=\"benchvise\")\n",
    "db_cam = Data(root_path=\"./dataset/\", mode=\"database\", label=\"cam\")\n",
    "db_cat = Data(root_path=\"./dataset/\", mode=\"database\", label=\"cat\")\n",
    "db_duck = Data(root_path=\"./dataset/\", mode=\"database\", label=\"duck\")"
   ]
  },
  {
   "cell_type": "code",
   "execution_count": 3,
   "metadata": {
    "scrolled": true
   },
   "outputs": [],
   "source": [
    "classes = [\"ape\", \"benchvise\", \"cam\", \"cat\", \"duck\"]\n",
    "train_data = {\"ape\":train_ape, \"benchvise\":train_benchvise, \"cam\":train_cam, \"cat\":train_cat, \"duck\":train_duck}\n",
    "test_data = {\"ape\":test_ape, \"benchvise\":test_benchvise, \"cam\":test_cam, \"cat\":test_cat, \"duck\":test_duck}\n",
    "db_data = {\"ape\":db_ape, \"benchvise\":db_benchvise, \"cam\":db_cam, \"cat\":db_cat, \"duck\":db_duck}\n",
    "classNum =len(classes)"
   ]
  },
  {
   "cell_type": "code",
   "execution_count": 4,
   "metadata": {},
   "outputs": [],
   "source": [
    "db_imgs =[]\n",
    "db_pose =[]\n",
    "db_labels = []\n",
    "test_imgs =[]\n",
    "test_pose =[]\n",
    "test_labels = []\n",
    "\n",
    "for name in classes:\n",
    "    for i in range(len(db_data[name])):\n",
    "        img,pose = db_data[name][i]\n",
    "        db_imgs.append(img)\n",
    "        db_pose.append(pose)\n",
    "        db_labels.append(name)\n",
    "\n",
    "for name in classes:\n",
    "    for i in range(len(test_data[name])):\n",
    "        img,pose = test_data[name][i]\n",
    "        test_imgs.append(img)\n",
    "        test_pose.append(pose)\n",
    "        test_labels.append(name)\n",
    "db_imgs =np.array(db_imgs)"
   ]
  },
  {
   "cell_type": "markdown",
   "metadata": {},
   "source": [
    "### 2) CNN"
   ]
  },
  {
   "cell_type": "code",
   "execution_count": 5,
   "metadata": {},
   "outputs": [],
   "source": [
    "def getHistogram(inference):\n",
    "    hist =np.zeros((1,4))\n",
    "    \n",
    "    for i in range(len(inference)):\n",
    "        x= inference[i]\n",
    "        if(np.isnan(x)):\n",
    "            continue\n",
    "        elif(x<10):    \n",
    "            hist+=np.array([1,1,1,1])\n",
    "        elif(x<20):    \n",
    "            hist+=np.array([0,1,1,1])\n",
    "        elif(x<40):    \n",
    "            hist+=np.array([0,0,1,1])\n",
    "        elif(x<180):    \n",
    "            hist+=np.array([0,0,0,1])\n",
    "        else:\n",
    "            print('Error')\n",
    "    print(hist)\n",
    "    return hist"
   ]
  },
  {
   "cell_type": "code",
   "execution_count": 6,
   "metadata": {
    "scrolled": true
   },
   "outputs": [
    {
     "name": "stdout",
     "output_type": "stream",
     "text": [
      "START TRAIN\n",
      "7\n",
      "iteration 0: Loss = 261.78769022226334\n",
      "Correct matches:  1302\n",
      "[[ 162.  464.  849. 1302.]]\n"
     ]
    },
    {
     "data": {
      "image/png": "[encoded data removed]",
      "text/plain": [
       "<Figure size 432x288 with 1 Axes>"
      ]
     },
     "metadata": {
      "needs_background": "light"
     },
     "output_type": "display_data"
    },
    {
     "name": "stdout",
     "output_type": "stream",
     "text": [
      "Epoch 0: Loss = 0.15833745160310514\n",
      "iteration 10: Loss = 67.95808486640453\n",
      "Epoch 1: Loss = 0.06685798521141681\n",
      "iteration 20: Loss = 44.750913977622986\n",
      "Epoch 2: Loss = 0.04583590567755908\n",
      "Epoch 3: Loss = 0.03807651134337387\n",
      "iteration 30: Loss = 30.351419001817703\n",
      "Epoch 4: Loss = 0.028691285872765284\n",
      "iteration 40: Loss = 27.849099598824978\n",
      "Epoch 5: Loss = 0.025085767304712174\n",
      "Epoch 6: Loss = 0.023916167515826176\n",
      "iteration 50: Loss = 25.725102983415127\n",
      "Epoch 7: Loss = 0.02323692490942248\n",
      "iteration 60: Loss = 23.820550180971622\n",
      "Epoch 8: Loss = 0.019466825229525163\n",
      "Epoch 9: Loss = 0.0178974167714845\n",
      "iteration 70: Loss = 26.153912767767906\n",
      "Epoch 10: Loss = 0.019158873012808834\n",
      "iteration 80: Loss = 22.29369292035699\n",
      "Epoch 11: Loss = 0.019002772658902354\n",
      "iteration 90: Loss = 17.18153664842248\n",
      "Epoch 12: Loss = 0.015631536302294465\n",
      "Epoch 13: Loss = 0.01645339200126006\n",
      "iteration 100: Loss = 18.336131237447262\n",
      "Correct matches:  2931\n",
      "[[ 903. 1676. 2200. 2931.]]\n"
     ]
    },
    {
     "data": {
      "image/png": "[encoded data removed]",
      "text/plain": [
       "<Figure size 432x288 with 1 Axes>"
      ]
     },
     "metadata": {
      "needs_background": "light"
     },
     "output_type": "display_data"
    },
    {
     "name": "stdout",
     "output_type": "stream",
     "text": [
      "Epoch 14: Loss = 0.016393480730632282\n",
      "iteration 110: Loss = 15.900301281362772\n",
      "Epoch 15: Loss = 0.0165057348453419\n",
      "Epoch 16: Loss = 0.01704776835685079\n",
      "iteration 120: Loss = 16.70078979805112\n",
      "Epoch 17: Loss = 0.016007948085756257\n",
      "iteration 130: Loss = 14.028229750692844\n",
      "Epoch 18: Loss = 0.01543940300880293\n",
      "Epoch 19: Loss = 0.01521115603175701\n",
      "iteration 140: Loss = 15.442666132003069\n",
      "Epoch 20: Loss = 0.016370501713846117\n",
      "iteration 150: Loss = 12.8624914214015\n",
      "Epoch 21: Loss = 0.015307357377554419\n",
      "iteration 160: Loss = 14.989119954407215\n",
      "Epoch 22: Loss = 0.015602022683616427\n",
      "Epoch 23: Loss = 0.016109723406595448\n",
      "iteration 170: Loss = 17.448649741709232\n",
      "Epoch 24: Loss = 0.014860187088070811\n",
      "iteration 180: Loss = 20.49621194601059\n",
      "Epoch 25: Loss = 0.015240165755243257\n",
      "Epoch 26: Loss = 0.015703628970351595\n",
      "iteration 190: Loss = 24.48323741555214\n",
      "Epoch 27: Loss = 0.01586720568758664\n",
      "iteration 200: Loss = 15.945497900247574\n",
      "Correct matches:  2996\n",
      "[[1007. 1779. 2241. 2996.]]\n"
     ]
    },
    {
     "data": {
      "image/png": "[encoded data removed]",
      "text/plain": [
       "<Figure size 432x288 with 1 Axes>"
      ]
     },
     "metadata": {
      "needs_background": "light"
     },
     "output_type": "display_data"
    },
    {
     "name": "stdout",
     "output_type": "stream",
     "text": [
      "Epoch 28: Loss = 0.01407705274442617\n",
      "Epoch 29: Loss = 0.01239696345282599\n",
      "iteration 210: Loss = 15.399351250380278\n",
      "Epoch 30: Loss = 0.014521606872707182\n",
      "iteration 220: Loss = 13.911362271755934\n",
      "Epoch 31: Loss = 0.015401840272845649\n",
      "iteration 230: Loss = 16.472835559397936\n",
      "Epoch 32: Loss = 0.016357641350188665\n",
      "Epoch 33: Loss = 0.015136586617902273\n",
      "iteration 240: Loss = 13.401375152170658\n",
      "Epoch 34: Loss = 0.01427340736281904\n",
      "iteration 250: Loss = 13.711585197597742\n",
      "Epoch 35: Loss = 0.014113461954681395\n",
      "Epoch 36: Loss = 0.014934600390629701\n",
      "iteration 260: Loss = 14.196623582392931\n",
      "Epoch 37: Loss = 0.01800393995091289\n",
      "iteration 270: Loss = 18.668577075004578\n",
      "Epoch 38: Loss = 0.015267192157819253\n",
      "Epoch 39: Loss = 0.014863394774310416\n",
      "iteration 280: Loss = 17.20071444287896\n",
      "Epoch 40: Loss = 0.016214327313192063\n",
      "iteration 290: Loss = 21.38705737888813\n",
      "Epoch 41: Loss = 0.01499326673262752\n",
      "iteration 300: Loss = 21.514648105949163\n",
      "Correct matches:  2998\n",
      "[[ 999. 1764. 2247. 2998.]]\n"
     ]
    },
    {
     "data": {
      "image/png": "[encoded data removed]",
      "text/plain": [
       "<Figure size 432x288 with 1 Axes>"
      ]
     },
     "metadata": {
      "needs_background": "light"
     },
     "output_type": "display_data"
    },
    {
     "name": "stdout",
     "output_type": "stream",
     "text": [
      "Epoch 42: Loss = 0.018077663533958045\n",
      "Epoch 43: Loss = 0.013766999769601204\n",
      "iteration 310: Loss = 16.174708027392626\n",
      "Epoch 44: Loss = 0.013366235378603932\n",
      "iteration 320: Loss = 12.919210363179445\n",
      "Epoch 45: Loss = 0.012674858726958501\n",
      "Epoch 46: Loss = 0.014346857963332366\n",
      "iteration 330: Loss = 20.884957630187273\n",
      "Epoch 47: Loss = 0.015083545093235335\n",
      "iteration 340: Loss = 12.07120344042778\n",
      "Epoch 48: Loss = 0.014183564793260656\n",
      "Epoch 49: Loss = 0.01631759253005415\n"
     ]
    }
   ],
   "source": [
    "from torch.utils.tensorboard import SummaryWriter\n",
    "\n",
    "model = CNN()\n",
    "optim_args = {\"lr\": 1e-3, \"weight_decay\": 0.001}\n",
    "optimizer = torch.optim.Adam(model.parameters(), **optim_args)\n",
    "writer = SummaryWriter()\n",
    "\n",
    "model.to(device)\n",
    "\n",
    "batch_size = 1000\n",
    "epochs = 50\n",
    "\n",
    "dataset=XDataset(classes, train_data, db_data, batch_size)\n",
    "print(\"START TRAIN\")\n",
    "iterationPerEpoch = int(dataset.len/batch_size)\n",
    "print(iterationPerEpoch)\n",
    "it = 0\n",
    "store_loss = []\n",
    "store_ang_diff = []\n",
    "for i in range(epochs):\n",
    "    running_loss = 0\n",
    "    for j in range(iterationPerEpoch):\n",
    "        model.train()\n",
    "        optimizer.zero_grad()\n",
    "        batches_img, batches_pose = dataset.batch_generator()\n",
    "        inputs = batches_img\n",
    "        inputs = torch.from_numpy(inputs).to(device, dtype=torch.float)\n",
    "        outputs = model.forward(inputs)\n",
    "        \n",
    "        loss = ls.total_loss(outputs)\n",
    "        loss.backward()\n",
    "        optimizer.step()\n",
    "        \n",
    "        running_loss += loss.data.item() * inputs.shape[0]\n",
    "        \n",
    "        if(it%10==0):\n",
    "            store_loss.append(loss.data.item()*inputs.shape[0])\n",
    "            print(\"iteration \" +str(it)+ \": Loss = \"+ str(loss.data.item()*inputs.shape[0]))\n",
    "            writer.add_scalar(\"Loss\", loss.data.item()*inputs.shape[0], it)\n",
    "            \n",
    "        if(it%100==0):\n",
    "            model.eval()\n",
    "            db_inputs = torch.from_numpy(db_imgs).to(device, dtype=torch.float)\n",
    "            db_outputs = model.forward(db_inputs)\n",
    "            diffAng = []\n",
    "            correct_match = 0\n",
    "            \n",
    "            for k in range(len(test_imgs)):\n",
    "                img = test_imgs[k]\n",
    "                label = test_labels[k]\n",
    "                pose = test_pose[k]\n",
    "                \n",
    "                img_input = torch.from_numpy(np.expand_dims(img, axis=0)).to(device, dtype=torch.float)\n",
    "                img_output = model(img_input)\n",
    "                \n",
    "                vec = torch.norm(db_outputs-img_output, p=2, dim=1).detach().cpu().numpy()\n",
    "                ind = np.argmin(vec)\n",
    "                imgInferClass = db_labels[ind]\n",
    "                dbimgInferPose = db_pose[ind]\n",
    "                \n",
    "                if(label == imgInferClass):\n",
    "                    correct_match += 1\n",
    "                    quatDot = abs(np.dot(dbimgInferPose, pose))\n",
    "                    \n",
    "                    if(quatDot>1.0):\n",
    "                        quatDot = 1.0\n",
    "                        \n",
    "                    diffAng.append(np.degrees(np.arccos(quatDot)))\n",
    "                else:\n",
    "                    diffAng.append(np.nan)\n",
    "                    \n",
    "            print(\"Correct matches: \", correct_match)\n",
    "            histo = getHistogram(diffAng)\n",
    "            plt.bar(np.array([100,200,300,400]), width=50, height=[histo[0,0],histo[0,1],histo[0,2],histo[0,3]], \n",
    "                    tick_label=(\"10\", \"20\", \"40\", \"180\"))\n",
    "            plt.xlabel('Angular differrence')\n",
    "            plt.savefig(\"Histo_%d\" % it, dpi=600)\n",
    "            plt.show()\n",
    "            \n",
    "            store_ang_diff.append(diffAng)\n",
    "            \n",
    "        it+=1    \n",
    "    \n",
    "    epoch_loss = running_loss / (dataset.len)\n",
    "    print(\"Epoch \"+str(i)+\": Loss = \"+str(epoch_loss))\n",
    "    writer.add_scalar(\"Epoch loss\", epoch_loss, i)\n",
    "    \n",
    "writer.close()"
   ]
  },
  {
   "cell_type": "markdown",
   "metadata": {},
   "source": [
    "## Save model"
   ]
  },
  {
   "cell_type": "code",
   "execution_count": 6,
   "metadata": {},
   "outputs": [],
   "source": [
    "model_name = \"models/train_50epochs_working_1000batch\"\n",
    "# model.save(model_name)"
   ]
  },
  {
   "cell_type": "code",
   "execution_count": 8,
   "metadata": {},
   "outputs": [],
   "source": [
    "# # Test\n",
    "# dataset=XDataset(classes, train_data, db_data, 10)\n",
    "# x,y =dataset.batch_generator()\n",
    "# import matplotlib.pyplot as plt\n",
    "# import matplotlib.image as mpimg\n",
    "# fig = plt.figure()\n",
    "# print(x.shape)\n",
    "# plt.subplot(2, 2, 1)\n",
    "# plt.imshow(x[0, 0], 'gray')\n",
    "\n",
    "# plt.subplot(2, 2, 2)\n",
    "# plt.imshow(x[0, 1], 'gray')\n",
    "\n",
    "# plt.subplot(2, 2, 3)\n",
    "# plt.imshow(x[0, 2], 'gray')\n",
    "# plt.show()\n",
    "# dataset.len"
   ]
  },
  {
   "cell_type": "markdown",
   "metadata": {},
   "source": [
    "## Additional visualizations"
   ]
  },
  {
   "cell_type": "code",
   "execution_count": 7,
   "metadata": {},
   "outputs": [
    {
     "ename": "RuntimeError",
     "evalue": "Attempting to deserialize object on a CUDA device but torch.cuda.is_available() is False. If you are running on a CPU-only machine, please use torch.load with map_location=torch.device('cpu') to map your storages to the CPU.",
     "output_type": "error",
     "traceback": [
      "\u001b[0;31m---------------------------------------------------------------------------\u001b[0m",
      "\u001b[0;31mRuntimeError\u001b[0m                              Traceback (most recent call last)",
      "\u001b[0;32m<ipython-input-7-85fbc662cd55>\u001b[0m in \u001b[0;36m<module>\u001b[0;34m\u001b[0m\n\u001b[1;32m      1\u001b[0m \u001b[0mmodel\u001b[0m \u001b[0;34m=\u001b[0m \u001b[0mCNN\u001b[0m\u001b[0;34m(\u001b[0m\u001b[0;34m)\u001b[0m\u001b[0;34m\u001b[0m\u001b[0;34m\u001b[0m\u001b[0m\n\u001b[0;32m----> 2\u001b[0;31m \u001b[0mmodel\u001b[0m \u001b[0;34m=\u001b[0m \u001b[0mtorch\u001b[0m\u001b[0;34m.\u001b[0m\u001b[0mload\u001b[0m\u001b[0;34m(\u001b[0m\u001b[0mmodel_name\u001b[0m\u001b[0;34m)\u001b[0m\u001b[0;34m\u001b[0m\u001b[0;34m\u001b[0m\u001b[0m\n\u001b[0m\u001b[1;32m      3\u001b[0m \u001b[0;34m\u001b[0m\u001b[0m\n\u001b[1;32m      4\u001b[0m \u001b[0mfeatures\u001b[0m \u001b[0;34m=\u001b[0m \u001b[0;34m[\u001b[0m\u001b[0;34m]\u001b[0m\u001b[0;34m\u001b[0m\u001b[0;34m\u001b[0m\u001b[0m\n\u001b[1;32m      5\u001b[0m \u001b[0mimages\u001b[0m \u001b[0;34m=\u001b[0m \u001b[0mtorch\u001b[0m\u001b[0;34m.\u001b[0m\u001b[0mzeros\u001b[0m\u001b[0;34m(\u001b[0m\u001b[0;34m(\u001b[0m\u001b[0mlen\u001b[0m\u001b[0;34m(\u001b[0m\u001b[0mtest_imgs\u001b[0m\u001b[0;34m)\u001b[0m\u001b[0;34m,\u001b[0m \u001b[0;36m3\u001b[0m\u001b[0;34m,\u001b[0m \u001b[0;36m64\u001b[0m\u001b[0;34m,\u001b[0m \u001b[0;36m64\u001b[0m\u001b[0;34m)\u001b[0m\u001b[0;34m)\u001b[0m\u001b[0;34m.\u001b[0m\u001b[0mcuda\u001b[0m\u001b[0;34m(\u001b[0m\u001b[0;34m)\u001b[0m\u001b[0;34m\u001b[0m\u001b[0;34m\u001b[0m\u001b[0m\n",
      "\u001b[0;32m~/anaconda3/envs/tdcv/lib/python3.7/site-packages/torch/serialization.py\u001b[0m in \u001b[0;36mload\u001b[0;34m(f, map_location, pickle_module, **pickle_load_args)\u001b[0m\n\u001b[1;32m    424\u001b[0m         \u001b[0;32mif\u001b[0m \u001b[0msys\u001b[0m\u001b[0;34m.\u001b[0m\u001b[0mversion_info\u001b[0m \u001b[0;34m>=\u001b[0m \u001b[0;34m(\u001b[0m\u001b[0;36m3\u001b[0m\u001b[0;34m,\u001b[0m \u001b[0;36m0\u001b[0m\u001b[0;34m)\u001b[0m \u001b[0;32mand\u001b[0m \u001b[0;34m'encoding'\u001b[0m \u001b[0;32mnot\u001b[0m \u001b[0;32min\u001b[0m \u001b[0mpickle_load_args\u001b[0m\u001b[0;34m.\u001b[0m\u001b[0mkeys\u001b[0m\u001b[0;34m(\u001b[0m\u001b[0;34m)\u001b[0m\u001b[0;34m:\u001b[0m\u001b[0;34m\u001b[0m\u001b[0;34m\u001b[0m\u001b[0m\n\u001b[1;32m    425\u001b[0m             \u001b[0mpickle_load_args\u001b[0m\u001b[0;34m[\u001b[0m\u001b[0;34m'encoding'\u001b[0m\u001b[0;34m]\u001b[0m \u001b[0;34m=\u001b[0m \u001b[0;34m'utf-8'\u001b[0m\u001b[0;34m\u001b[0m\u001b[0;34m\u001b[0m\u001b[0m\n\u001b[0;32m--> 426\u001b[0;31m         \u001b[0;32mreturn\u001b[0m \u001b[0m_load\u001b[0m\u001b[0;34m(\u001b[0m\u001b[0mf\u001b[0m\u001b[0;34m,\u001b[0m \u001b[0mmap_location\u001b[0m\u001b[0;34m,\u001b[0m \u001b[0mpickle_module\u001b[0m\u001b[0;34m,\u001b[0m \u001b[0;34m**\u001b[0m\u001b[0mpickle_load_args\u001b[0m\u001b[0;34m)\u001b[0m\u001b[0;34m\u001b[0m\u001b[0;34m\u001b[0m\u001b[0m\n\u001b[0m\u001b[1;32m    427\u001b[0m     \u001b[0;32mfinally\u001b[0m\u001b[0;34m:\u001b[0m\u001b[0;34m\u001b[0m\u001b[0;34m\u001b[0m\u001b[0m\n\u001b[1;32m    428\u001b[0m         \u001b[0;32mif\u001b[0m \u001b[0mnew_fd\u001b[0m\u001b[0;34m:\u001b[0m\u001b[0;34m\u001b[0m\u001b[0;34m\u001b[0m\u001b[0m\n",
      "\u001b[0;32m~/anaconda3/envs/tdcv/lib/python3.7/site-packages/torch/serialization.py\u001b[0m in \u001b[0;36m_load\u001b[0;34m(f, map_location, pickle_module, **pickle_load_args)\u001b[0m\n\u001b[1;32m    611\u001b[0m     \u001b[0munpickler\u001b[0m \u001b[0;34m=\u001b[0m \u001b[0mpickle_module\u001b[0m\u001b[0;34m.\u001b[0m\u001b[0mUnpickler\u001b[0m\u001b[0;34m(\u001b[0m\u001b[0mf\u001b[0m\u001b[0;34m,\u001b[0m \u001b[0;34m**\u001b[0m\u001b[0mpickle_load_args\u001b[0m\u001b[0;34m)\u001b[0m\u001b[0;34m\u001b[0m\u001b[0;34m\u001b[0m\u001b[0m\n\u001b[1;32m    612\u001b[0m     \u001b[0munpickler\u001b[0m\u001b[0;34m.\u001b[0m\u001b[0mpersistent_load\u001b[0m \u001b[0;34m=\u001b[0m \u001b[0mpersistent_load\u001b[0m\u001b[0;34m\u001b[0m\u001b[0;34m\u001b[0m\u001b[0m\n\u001b[0;32m--> 613\u001b[0;31m     \u001b[0mresult\u001b[0m \u001b[0;34m=\u001b[0m \u001b[0munpickler\u001b[0m\u001b[0;34m.\u001b[0m\u001b[0mload\u001b[0m\u001b[0;34m(\u001b[0m\u001b[0;34m)\u001b[0m\u001b[0;34m\u001b[0m\u001b[0;34m\u001b[0m\u001b[0m\n\u001b[0m\u001b[1;32m    614\u001b[0m \u001b[0;34m\u001b[0m\u001b[0m\n\u001b[1;32m    615\u001b[0m     \u001b[0mdeserialized_storage_keys\u001b[0m \u001b[0;34m=\u001b[0m \u001b[0mpickle_module\u001b[0m\u001b[0;34m.\u001b[0m\u001b[0mload\u001b[0m\u001b[0;34m(\u001b[0m\u001b[0mf\u001b[0m\u001b[0;34m,\u001b[0m \u001b[0;34m**\u001b[0m\u001b[0mpickle_load_args\u001b[0m\u001b[0;34m)\u001b[0m\u001b[0;34m\u001b[0m\u001b[0;34m\u001b[0m\u001b[0m\n",
      "\u001b[0;32m~/anaconda3/envs/tdcv/lib/python3.7/site-packages/torch/serialization.py\u001b[0m in \u001b[0;36mpersistent_load\u001b[0;34m(saved_id)\u001b[0m\n\u001b[1;32m    574\u001b[0m                 \u001b[0mobj\u001b[0m \u001b[0;34m=\u001b[0m \u001b[0mdata_type\u001b[0m\u001b[0;34m(\u001b[0m\u001b[0msize\u001b[0m\u001b[0;34m)\u001b[0m\u001b[0;34m\u001b[0m\u001b[0;34m\u001b[0m\u001b[0m\n\u001b[1;32m    575\u001b[0m                 \u001b[0mobj\u001b[0m\u001b[0;34m.\u001b[0m\u001b[0m_torch_load_uninitialized\u001b[0m \u001b[0;34m=\u001b[0m \u001b[0;32mTrue\u001b[0m\u001b[0;34m\u001b[0m\u001b[0;34m\u001b[0m\u001b[0m\n\u001b[0;32m--> 576\u001b[0;31m                 \u001b[0mdeserialized_objects\u001b[0m\u001b[0;34m[\u001b[0m\u001b[0mroot_key\u001b[0m\u001b[0;34m]\u001b[0m \u001b[0;34m=\u001b[0m \u001b[0mrestore_location\u001b[0m\u001b[0;34m(\u001b[0m\u001b[0mobj\u001b[0m\u001b[0;34m,\u001b[0m \u001b[0mlocation\u001b[0m\u001b[0;34m)\u001b[0m\u001b[0;34m\u001b[0m\u001b[0;34m\u001b[0m\u001b[0m\n\u001b[0m\u001b[1;32m    577\u001b[0m             \u001b[0mstorage\u001b[0m \u001b[0;34m=\u001b[0m \u001b[0mdeserialized_objects\u001b[0m\u001b[0;34m[\u001b[0m\u001b[0mroot_key\u001b[0m\u001b[0;34m]\u001b[0m\u001b[0;34m\u001b[0m\u001b[0;34m\u001b[0m\u001b[0m\n\u001b[1;32m    578\u001b[0m             \u001b[0;32mif\u001b[0m \u001b[0mview_metadata\u001b[0m \u001b[0;32mis\u001b[0m \u001b[0;32mnot\u001b[0m \u001b[0;32mNone\u001b[0m\u001b[0;34m:\u001b[0m\u001b[0;34m\u001b[0m\u001b[0;34m\u001b[0m\u001b[0m\n",
      "\u001b[0;32m~/anaconda3/envs/tdcv/lib/python3.7/site-packages/torch/serialization.py\u001b[0m in \u001b[0;36mdefault_restore_location\u001b[0;34m(storage, location)\u001b[0m\n\u001b[1;32m    153\u001b[0m \u001b[0;32mdef\u001b[0m \u001b[0mdefault_restore_location\u001b[0m\u001b[0;34m(\u001b[0m\u001b[0mstorage\u001b[0m\u001b[0;34m,\u001b[0m \u001b[0mlocation\u001b[0m\u001b[0;34m)\u001b[0m\u001b[0;34m:\u001b[0m\u001b[0;34m\u001b[0m\u001b[0;34m\u001b[0m\u001b[0m\n\u001b[1;32m    154\u001b[0m     \u001b[0;32mfor\u001b[0m \u001b[0m_\u001b[0m\u001b[0;34m,\u001b[0m \u001b[0m_\u001b[0m\u001b[0;34m,\u001b[0m \u001b[0mfn\u001b[0m \u001b[0;32min\u001b[0m \u001b[0m_package_registry\u001b[0m\u001b[0;34m:\u001b[0m\u001b[0;34m\u001b[0m\u001b[0;34m\u001b[0m\u001b[0m\n\u001b[0;32m--> 155\u001b[0;31m         \u001b[0mresult\u001b[0m \u001b[0;34m=\u001b[0m \u001b[0mfn\u001b[0m\u001b[0;34m(\u001b[0m\u001b[0mstorage\u001b[0m\u001b[0;34m,\u001b[0m \u001b[0mlocation\u001b[0m\u001b[0;34m)\u001b[0m\u001b[0;34m\u001b[0m\u001b[0;34m\u001b[0m\u001b[0m\n\u001b[0m\u001b[1;32m    156\u001b[0m         \u001b[0;32mif\u001b[0m \u001b[0mresult\u001b[0m \u001b[0;32mis\u001b[0m \u001b[0;32mnot\u001b[0m \u001b[0;32mNone\u001b[0m\u001b[0;34m:\u001b[0m\u001b[0;34m\u001b[0m\u001b[0;34m\u001b[0m\u001b[0m\n\u001b[1;32m    157\u001b[0m             \u001b[0;32mreturn\u001b[0m \u001b[0mresult\u001b[0m\u001b[0;34m\u001b[0m\u001b[0;34m\u001b[0m\u001b[0m\n",
      "\u001b[0;32m~/anaconda3/envs/tdcv/lib/python3.7/site-packages/torch/serialization.py\u001b[0m in \u001b[0;36m_cuda_deserialize\u001b[0;34m(obj, location)\u001b[0m\n\u001b[1;32m    129\u001b[0m \u001b[0;32mdef\u001b[0m \u001b[0m_cuda_deserialize\u001b[0m\u001b[0;34m(\u001b[0m\u001b[0mobj\u001b[0m\u001b[0;34m,\u001b[0m \u001b[0mlocation\u001b[0m\u001b[0;34m)\u001b[0m\u001b[0;34m:\u001b[0m\u001b[0;34m\u001b[0m\u001b[0;34m\u001b[0m\u001b[0m\n\u001b[1;32m    130\u001b[0m     \u001b[0;32mif\u001b[0m \u001b[0mlocation\u001b[0m\u001b[0;34m.\u001b[0m\u001b[0mstartswith\u001b[0m\u001b[0;34m(\u001b[0m\u001b[0;34m'cuda'\u001b[0m\u001b[0;34m)\u001b[0m\u001b[0;34m:\u001b[0m\u001b[0;34m\u001b[0m\u001b[0;34m\u001b[0m\u001b[0m\n\u001b[0;32m--> 131\u001b[0;31m         \u001b[0mdevice\u001b[0m \u001b[0;34m=\u001b[0m \u001b[0mvalidate_cuda_device\u001b[0m\u001b[0;34m(\u001b[0m\u001b[0mlocation\u001b[0m\u001b[0;34m)\u001b[0m\u001b[0;34m\u001b[0m\u001b[0;34m\u001b[0m\u001b[0m\n\u001b[0m\u001b[1;32m    132\u001b[0m         \u001b[0;32mif\u001b[0m \u001b[0mgetattr\u001b[0m\u001b[0;34m(\u001b[0m\u001b[0mobj\u001b[0m\u001b[0;34m,\u001b[0m \u001b[0;34m\"_torch_load_uninitialized\"\u001b[0m\u001b[0;34m,\u001b[0m \u001b[0;32mFalse\u001b[0m\u001b[0;34m)\u001b[0m\u001b[0;34m:\u001b[0m\u001b[0;34m\u001b[0m\u001b[0;34m\u001b[0m\u001b[0m\n\u001b[1;32m    133\u001b[0m             \u001b[0mstorage_type\u001b[0m \u001b[0;34m=\u001b[0m \u001b[0mgetattr\u001b[0m\u001b[0;34m(\u001b[0m\u001b[0mtorch\u001b[0m\u001b[0;34m.\u001b[0m\u001b[0mcuda\u001b[0m\u001b[0;34m,\u001b[0m \u001b[0mtype\u001b[0m\u001b[0;34m(\u001b[0m\u001b[0mobj\u001b[0m\u001b[0;34m)\u001b[0m\u001b[0;34m.\u001b[0m\u001b[0m__name__\u001b[0m\u001b[0;34m)\u001b[0m\u001b[0;34m\u001b[0m\u001b[0;34m\u001b[0m\u001b[0m\n",
      "\u001b[0;32m~/anaconda3/envs/tdcv/lib/python3.7/site-packages/torch/serialization.py\u001b[0m in \u001b[0;36mvalidate_cuda_device\u001b[0;34m(location)\u001b[0m\n\u001b[1;32m    113\u001b[0m \u001b[0;34m\u001b[0m\u001b[0m\n\u001b[1;32m    114\u001b[0m     \u001b[0;32mif\u001b[0m \u001b[0;32mnot\u001b[0m \u001b[0mtorch\u001b[0m\u001b[0;34m.\u001b[0m\u001b[0mcuda\u001b[0m\u001b[0;34m.\u001b[0m\u001b[0mis_available\u001b[0m\u001b[0;34m(\u001b[0m\u001b[0;34m)\u001b[0m\u001b[0;34m:\u001b[0m\u001b[0;34m\u001b[0m\u001b[0;34m\u001b[0m\u001b[0m\n\u001b[0;32m--> 115\u001b[0;31m         raise RuntimeError('Attempting to deserialize object on a CUDA '\n\u001b[0m\u001b[1;32m    116\u001b[0m                            \u001b[0;34m'device but torch.cuda.is_available() is False. '\u001b[0m\u001b[0;34m\u001b[0m\u001b[0;34m\u001b[0m\u001b[0m\n\u001b[1;32m    117\u001b[0m                            \u001b[0;34m'If you are running on a CPU-only machine, '\u001b[0m\u001b[0;34m\u001b[0m\u001b[0;34m\u001b[0m\u001b[0m\n",
      "\u001b[0;31mRuntimeError\u001b[0m: Attempting to deserialize object on a CUDA device but torch.cuda.is_available() is False. If you are running on a CPU-only machine, please use torch.load with map_location=torch.device('cpu') to map your storages to the CPU."
     ]
    }
   ],
   "source": [
    "model = CNN()\n",
    "model = torch.load(model_name)\n",
    "\n",
    "features = []\n",
    "images = torch.zeros((len(test_imgs), 3, 64, 64)).cuda()\n",
    "\n",
    "\n",
    "for k in range(len(test_imgs)):\n",
    "    img = test_imgs[k]\n",
    "    img_input = torch.from_numpy(np.expand_dims(img, axis=0)).to(device, dtype=torch.float)\n",
    "    img_output = model(img_input)\n",
    "    img_output = img_output.squeeze(0)\n",
    "    img_input = img_input.squeeze(0)\n",
    "    \n",
    "    features.append(img_output.detach().cpu().numpy())\n",
    "    images[k] = img_input\n",
    "\n",
    "features = np.array(features)\n",
    "\n",
    "writer = SummaryWriter()\n",
    "writer.add_embedding(features, metadata=test_labels, label_img=images)\n",
    "writer.close()"
   ]
  },
  {
   "cell_type": "code",
   "execution_count": 10,
   "metadata": {},
   "outputs": [
    {
     "data": {
      "image/png": "[encoded data removed]",
      "text/plain": [
       "<Figure size 720x720 with 2 Axes>"
      ]
     },
     "metadata": {
      "needs_background": "light"
     },
     "output_type": "display_data"
    }
   ],
   "source": [
    "from sklearn.metrics import confusion_matrix\n",
    "import seaborn as sns\n",
    "\n",
    "model = CNN()\n",
    "model = torch.load(model_name)\n",
    "\n",
    "db_inputs = torch.from_numpy(db_imgs).to(device, dtype=torch.float)\n",
    "db_outputs = model.forward(db_inputs)\n",
    "\n",
    "inferClass = []\n",
    "\n",
    "\n",
    "for k in range(len(test_imgs)):\n",
    "    img = test_imgs[k]\n",
    "    label = test_labels[k]\n",
    "    \n",
    "    img_input = torch.from_numpy(np.expand_dims(img, axis=0)).to(device, dtype=torch.float)\n",
    "    img_output = model(img_input)\n",
    "    \n",
    "    vec = torch.norm(db_outputs-img_output, p=2, dim=1).detach().cpu().numpy()\n",
    "    ind = np.argmin(vec)\n",
    "    \n",
    "    inferClass.append(db_labels[ind])\n",
    "\n",
    "plt.figure(figsize=(10,10))\n",
    "sns.heatmap(confusion_matrix(test_labels, inferClass, labels=classes), annot=True, fmt=\"d\", linewidth=0.5,\n",
    "            square=True, xticklabels=classes, yticklabels=classes)\n",
    "plt.savefig(\"Heat matrix\", dpi=600)\n"
   ]
  },
  {
   "cell_type": "code",
   "execution_count": null,
   "metadata": {},
   "outputs": [],
   "source": []
  }
 ],
 "metadata": {
  "kernelspec": {
   "display_name": "Python 3",
   "language": "python",
   "name": "python3"
  },
  "language_info": {
   "codemirror_mode": {
    "name": "ipython",
    "version": 3
   },
   "file_extension": ".py",
   "mimetype": "text/x-python",
   "name": "python",
   "nbconvert_exporter": "python",
   "pygments_lexer": "ipython3",
   "version": "3.7.6"
  }
 },
 "nbformat": 4,
 "nbformat_minor": 2
}
